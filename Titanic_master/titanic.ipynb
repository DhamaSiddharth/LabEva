{
 "cells": [
  {
   "cell_type": "code",
   "execution_count": 1,
   "id": "55150948",
   "metadata": {},
   "outputs": [],
   "source": [
    "import pandas as pd                                                 #pandas\n",
    "import numpy as np                                                  #numpy\n",
    "import sklearn                                                      # sklearn have datasets models and other things\n",
    "import seaborn as sns                                               # seaborn \n",
    "import matplotlib.pyplot as plt\n",
    "                  \n",
    "from sklearn.model_selection import train_test_split                # divide data in test and train\n",
    "                   \n",
    "from sklearn import datasets, linear_model, metrics                 #import linera moduels\n",
    "from sklearn.preprocessing import StandardScaler                    # scaler data for pca\n",
    "from sklearn.decomposition import PCA                               #PCA \n",
    "               \n",
    "from sklearn.metrics import accuracy_score                          #for logistic reg      \n",
    "from sklearn.neighbors import KNeighborsRegressor  "
   ]
  },
  {
   "cell_type": "code",
   "execution_count": 2,
   "id": "54afe97b",
   "metadata": {},
   "outputs": [],
   "source": [
    "algo=[]\n",
    "acc=[]"
   ]
  },
  {
   "cell_type": "code",
   "execution_count": 3,
   "id": "a0181661",
   "metadata": {},
   "outputs": [],
   "source": [
    "t=pd.read_csv('titanic_class.csv')\n",
    "y=t.iloc[:,[11]]\n",
    "t.drop('PassengerId',axis=1,inplace=True)\n",
    "t.drop('Name',axis=1,inplace=True)\n",
    "t.drop('Ticket',axis=1,inplace=True)\n",
    "t.drop('Cabin',axis=1,inplace=True)\n",
    "t['Sex']=t['Sex'].map({'male':0,'female':1})\n",
    "mean=t['Age'].mean()\n",
    "me=mean//1\n",
    "t['Age'].fillna(me,inplace=True)\n",
    "mo=t['Embarked'].mode()[0]\n",
    "t['Embarked'].fillna(mo,inplace=True)\n",
    "t['Embarked']=t['Embarked'].map({'S':1, 'C':2, 'Q':3})\n",
    "from sklearn.preprocessing import StandardScaler\n",
    "sc = StandardScaler()\n",
    "vs = sc.fit_transform(t)\n",
    "df = pd.DataFrame(vs)\n",
    "X=df.iloc[:,[0,1,2,3,4,5,6]]\n",
    "X_train, X_test, y_train, y_test= train_test_split(X, y, test_size=0.2, random_state=1)\n",
    "\n"
   ]
  },
  {
   "cell_type": "code",
   "execution_count": 4,
   "id": "5c780919",
   "metadata": {},
   "outputs": [
    {
     "data": {
      "text/html": [
       "<div>\n",
       "<style scoped>\n",
       "    .dataframe tbody tr th:only-of-type {\n",
       "        vertical-align: middle;\n",
       "    }\n",
       "\n",
       "    .dataframe tbody tr th {\n",
       "        vertical-align: top;\n",
       "    }\n",
       "\n",
       "    .dataframe thead th {\n",
       "        text-align: right;\n",
       "    }\n",
       "</style>\n",
       "<table border=\"1\" class=\"dataframe\">\n",
       "  <thead>\n",
       "    <tr style=\"text-align: right;\">\n",
       "      <th></th>\n",
       "      <th>Survived</th>\n",
       "    </tr>\n",
       "  </thead>\n",
       "  <tbody>\n",
       "    <tr>\n",
       "      <th>0</th>\n",
       "      <td>0</td>\n",
       "    </tr>\n",
       "    <tr>\n",
       "      <th>1</th>\n",
       "      <td>1</td>\n",
       "    </tr>\n",
       "    <tr>\n",
       "      <th>2</th>\n",
       "      <td>1</td>\n",
       "    </tr>\n",
       "    <tr>\n",
       "      <th>3</th>\n",
       "      <td>1</td>\n",
       "    </tr>\n",
       "    <tr>\n",
       "      <th>4</th>\n",
       "      <td>0</td>\n",
       "    </tr>\n",
       "    <tr>\n",
       "      <th>...</th>\n",
       "      <td>...</td>\n",
       "    </tr>\n",
       "    <tr>\n",
       "      <th>886</th>\n",
       "      <td>0</td>\n",
       "    </tr>\n",
       "    <tr>\n",
       "      <th>887</th>\n",
       "      <td>1</td>\n",
       "    </tr>\n",
       "    <tr>\n",
       "      <th>888</th>\n",
       "      <td>0</td>\n",
       "    </tr>\n",
       "    <tr>\n",
       "      <th>889</th>\n",
       "      <td>1</td>\n",
       "    </tr>\n",
       "    <tr>\n",
       "      <th>890</th>\n",
       "      <td>0</td>\n",
       "    </tr>\n",
       "  </tbody>\n",
       "</table>\n",
       "<p>891 rows × 1 columns</p>\n",
       "</div>"
      ],
      "text/plain": [
       "     Survived\n",
       "0           0\n",
       "1           1\n",
       "2           1\n",
       "3           1\n",
       "4           0\n",
       "..        ...\n",
       "886         0\n",
       "887         1\n",
       "888         0\n",
       "889         1\n",
       "890         0\n",
       "\n",
       "[891 rows x 1 columns]"
      ]
     },
     "execution_count": 4,
     "metadata": {},
     "output_type": "execute_result"
    }
   ],
   "source": [
    "y"
   ]
  },
  {
   "cell_type": "code",
   "execution_count": 5,
   "id": "6f56751d",
   "metadata": {},
   "outputs": [
    {
     "name": "stderr",
     "output_type": "stream",
     "text": [
      "C:\\Users\\Acer1\\anaconda3\\lib\\site-packages\\sklearn\\utils\\validation.py:993: DataConversionWarning: A column-vector y was passed when a 1d array was expected. Please change the shape of y to (n_samples, ), for example using ravel().\n",
      "  y = column_or_1d(y, warn=True)\n"
     ]
    }
   ],
   "source": [
    "from sklearn.linear_model import LogisticRegression\n",
    "alg='LogisticRegression'\n",
    "classifier = LogisticRegression()\n",
    "classifier.fit(X_train,y_train)\n",
    "y_pred= classifier.predict(X_test)\n",
    "Accuracy=accuracy_score(y_test, y_pred)\n",
    "algo.append(alg)\n",
    "acc.append(Accuracy)"
   ]
  },
  {
   "cell_type": "code",
   "execution_count": 6,
   "id": "5a8c0ba8",
   "metadata": {},
   "outputs": [],
   "source": [
    "from sklearn.preprocessing import MinMaxScaler\n",
    "MM = MinMaxScaler()\n",
    "vs = MM.fit_transform(t)\n",
    "df = pd.DataFrame(vs)\n",
    "X=df.iloc[:,[0,1,2,3,4,5,6]]\n",
    "X_train, X_test, y_train, y_test= train_test_split(X, y, test_size=0.2, random_state=1)"
   ]
  },
  {
   "cell_type": "code",
   "execution_count": 7,
   "id": "abf65fb4",
   "metadata": {},
   "outputs": [
    {
     "name": "stderr",
     "output_type": "stream",
     "text": [
      "C:\\Users\\Acer1\\anaconda3\\lib\\site-packages\\sklearn\\neighbors\\_classification.py:198: DataConversionWarning: A column-vector y was passed when a 1d array was expected. Please change the shape of y to (n_samples,), for example using ravel().\n",
      "  return self._fit(X, y)\n"
     ]
    }
   ],
   "source": [
    "\n",
    "from sklearn.neighbors import KNeighborsClassifier\n",
    "alg='KNeighborsClassifier'\n",
    "knn = KNeighborsClassifier(n_neighbors=10)\n",
    "knn.fit(X_train, y_train)\n",
    "y_pred2=knn.predict(X_test)\n",
    "Accuracy=accuracy_score(y_test, y_pred)\n",
    "algo.append(alg)\n",
    "acc.append(Accuracy)"
   ]
  },
  {
   "cell_type": "code",
   "execution_count": 8,
   "id": "61ac4b59",
   "metadata": {},
   "outputs": [
    {
     "name": "stderr",
     "output_type": "stream",
     "text": [
      "C:\\Users\\Acer1\\anaconda3\\lib\\site-packages\\sklearn\\utils\\validation.py:993: DataConversionWarning: A column-vector y was passed when a 1d array was expected. Please change the shape of y to (n_samples, ), for example using ravel().\n",
      "  y = column_or_1d(y, warn=True)\n"
     ]
    }
   ],
   "source": [
    "\n",
    "\n",
    "from sklearn import svm\n",
    "alg='SVM'\n",
    "sv= svm.SVC()\n",
    "sv.fit(X_train, y_train)\n",
    "\n",
    "y_pred=sv.predict(X_test)\n",
    "Accuracy=accuracy_score(y_test, y_pred)\n",
    "algo.append(alg)\n",
    "acc.append(Accuracy)"
   ]
  },
  {
   "cell_type": "code",
   "execution_count": 9,
   "id": "1fa7540a",
   "metadata": {},
   "outputs": [],
   "source": [
    "from sklearn.tree import DecisionTreeClassifier\n",
    "alg='Decision Tree'\n",
    "dt= DecisionTreeClassifier()\n",
    "dt.fit(X_train,y_train)\n",
    "y_pred= dt.predict(X_test)\n",
    "Accuracy=accuracy_score(y_test, y_pred)\n",
    "algo.append(alg)\n",
    "acc.append(Accuracy)"
   ]
  },
  {
   "cell_type": "code",
   "execution_count": 10,
   "id": "6a7c21d4",
   "metadata": {},
   "outputs": [
    {
     "data": {
      "text/plain": [
       "[<matplotlib.lines.Line2D at 0x1f5d3eaab80>]"
      ]
     },
     "execution_count": 10,
     "metadata": {},
     "output_type": "execute_result"
    },
    {
     "data": {
      "image/png": "[encoded data removed]",
      "text/plain": [
       "<Figure size 432x288 with 1 Axes>"
      ]
     },
     "metadata": {
      "needs_background": "light"
     },
     "output_type": "display_data"
    }
   ],
   "source": [
    "plt.plot(algo,acc)"
   ]
  },
  {
   "cell_type": "code",
   "execution_count": null,
   "id": "83f7be86",
   "metadata": {},
   "outputs": [],
   "source": []
  }
 ],
 "metadata": {
  "kernelspec": {
   "display_name": "Python 3 (ipykernel)",
   "language": "python",
   "name": "python3"
  },
  "language_info": {
   "codemirror_mode": {
    "name": "ipython",
    "version": 3
   },
   "file_extension": ".py",
   "mimetype": "text/x-python",
   "name": "python",
   "nbconvert_exporter": "python",
   "pygments_lexer": "ipython3",
   "version": "3.9.12"
  }
 },
 "nbformat": 4,
 "nbformat_minor": 5
}
